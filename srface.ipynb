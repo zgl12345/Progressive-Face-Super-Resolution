{
  "cells": [
    {
      "cell_type": "markdown",
      "metadata": {
        "id": "view-in-github",
        "colab_type": "text"
      },
      "source": [
        "<a href=\"https://colab.research.google.com/github/zgl12345/Progressive-Face-Super-Resolution/blob/master/srface.ipynb\" target=\"_parent\"><img src=\"https://colab.research.google.com/assets/colab-badge.svg\" alt=\"Open In Colab\"/></a>"
      ]
    },
    {
      "cell_type": "markdown",
      "metadata": {
        "id": "5zyXnqgD__dI"
      },
      "source": [
        "删除文件"
      ]
    },
    {
      "cell_type": "code",
      "execution_count": null,
      "metadata": {
        "colab": {
          "background_save": true,
          "base_uri": "https://localhost:8080/"
        },
        "id": "F7dkjN6_AB7p",
        "outputId": "744b78b0-548e-4d57-b09a-4edc71d31e25"
      },
      "outputs": [
        {
          "name": "stdout",
          "output_type": "stream",
          "text": [
            "create_data_lists.py  eval.py\t   results  test.py\t       utils.py\n",
            "data\t\t      models.py    runs     train_srgan.py\n",
            "datasets.py\t      __pycache__  srimg    train_srresnet.py\n"
          ]
        }
      ],
      "source": [
        "from google.colab import files\n",
        "!ls\n",
        "!rm -rf /content/srimg"
      ]
    },
    {
      "cell_type": "markdown",
      "metadata": {
        "id": "BiaVM1Bhfpby"
      },
      "source": [
        "挂载网盘"
      ]
    },
    {
      "cell_type": "code",
      "execution_count": null,
      "metadata": {
        "colab": {
          "base_uri": "https://localhost:8080/"
        },
        "id": "3Xcu3a8MW6p0",
        "outputId": "45eedcea-583c-4600-9039-aeb18030a0c8"
      },
      "outputs": [
        {
          "output_type": "stream",
          "name": "stdout",
          "text": [
            "Drive already mounted at /content/drive; to attempt to forcibly remount, call drive.mount(\"/content/drive\", force_remount=True).\n"
          ]
        }
      ],
      "source": [
        "from google.colab import drive\n",
        "drive.mount(\"/content/drive\")\n"
      ]
    },
    {
      "cell_type": "markdown",
      "metadata": {
        "id": "W6uPZIiryYje"
      },
      "source": [
        "进入文件"
      ]
    },
    {
      "cell_type": "code",
      "execution_count": null,
      "metadata": {
        "id": "oIQQAVEwyYF9",
        "colab": {
          "base_uri": "https://localhost:8080/"
        },
        "outputId": "aa8cc881-b9f7-400c-a00e-1c7736e2cbe0"
      },
      "outputs": [
        {
          "output_type": "execute_result",
          "data": {
            "text/plain": [
              "['__pycache__',\n",
              " 'eval.py',\n",
              " 'models.py',\n",
              " 'srimg',\n",
              " 'train_srresnet.py',\n",
              " 'test.py',\n",
              " 'results',\n",
              " 'SRCNN_Pytorch_1.0-master',\n",
              " '.idea',\n",
              " 'create_data_lists.py',\n",
              " 'data',\n",
              " 'utils.py',\n",
              " 'train_srgan.py',\n",
              " 'datasets.py']"
            ]
          },
          "metadata": {},
          "execution_count": 12
        }
      ],
      "source": [
        "import os\n",
        "path=\"/content/srimg/SRGAN/SRGAN\"\n",
        "os.chdir(path)\n",
        "os.listdir(path)\n"
      ]
    },
    {
      "cell_type": "markdown",
      "metadata": {
        "id": "bXokU8mJXFU1"
      },
      "source": [
        "解压pfsr"
      ]
    },
    {
      "cell_type": "code",
      "execution_count": null,
      "metadata": {
        "id": "6H8ayWo7YLHP"
      },
      "outputs": [],
      "source": [
        "!pip install pyunpack\n",
        "!pip install patool\n",
        "from pyunpack import Archive\n",
        "Archive('/content/drive/MyDrive/Progressive-Face-Super-Resolution-master.rar').extractall('/content/srf')\n"
      ]
    },
    {
      "cell_type": "markdown",
      "metadata": {
        "id": "f-nI_pRnuu3n"
      },
      "source": [
        "解压srcnn"
      ]
    },
    {
      "cell_type": "code",
      "execution_count": null,
      "metadata": {
        "id": "Z4_pjZqOuyh-"
      },
      "outputs": [],
      "source": [
        "!unzip '/content/drive/MyDrive/SRCNN.zip'"
      ]
    },
    {
      "cell_type": "markdown",
      "metadata": {
        "id": "GUNTyWU_JwW1"
      },
      "source": [
        "解压FSRCNN"
      ]
    },
    {
      "cell_type": "code",
      "execution_count": null,
      "metadata": {
        "id": "GqDkTqW9Jy-e"
      },
      "outputs": [],
      "source": [
        "!unzip '/content/drive/MyDrive/FSRCNN-pytorch-master.zip'"
      ]
    },
    {
      "cell_type": "markdown",
      "metadata": {
        "id": "iuw_V_DCXNaG"
      },
      "source": [
        "解压srimg"
      ]
    },
    {
      "cell_type": "code",
      "execution_count": null,
      "metadata": {
        "id": "C__qRcGKXQ9q",
        "colab": {
          "base_uri": "https://localhost:8080/"
        },
        "outputId": "a03d2e09-6eda-4504-fb79-2e533495f01a"
      },
      "outputs": [
        {
          "output_type": "stream",
          "name": "stdout",
          "text": [
            "Archive:  /content/drive/MyDrive/srimg.zip\n",
            "replace srimg/SRGAN.rar? [y]es, [n]o, [A]ll, [N]one, [r]ename: "
          ]
        }
      ],
      "source": [
        "!unzip '/content/drive/MyDrive/srimg.zip'\n"
      ]
    },
    {
      "cell_type": "markdown",
      "metadata": {
        "id": "OzWESTZrfjBb"
      },
      "source": [
        "运行（不看）"
      ]
    },
    {
      "cell_type": "code",
      "execution_count": null,
      "metadata": {
        "colab": {
          "background_save": true
        },
        "id": "EjPaG4Hbfk4D",
        "outputId": "463e1287-3bfe-4027-ddb9-0a053ff4cc72"
      },
      "outputs": [
        {
          "name": "stdout",
          "output_type": "stream",
          "text": [
            "python3: can't open file 'demo.py': [Errno 2] No such file or directory\n"
          ]
        }
      ],
      "source": [
        "!python demo.py --image-path '/content/srf/Progressive-Face-Super-Resolution-master/figure/eval_target_image.jpeg' --checkpoint-path '/content/srf/Progressive-Face-Super-Resolution-master/checkpoints/generator_checkpoint_singleGPU.ckpt' --output-path '/content/srf/output/OUTPUT_NAME.jpeg'"
      ]
    },
    {
      "cell_type": "markdown",
      "metadata": {
        "id": "6DgZsCFfWkZd"
      },
      "source": [
        "查看gpu"
      ]
    },
    {
      "cell_type": "code",
      "execution_count": null,
      "metadata": {
        "id": "cRbOctjHWm4x"
      },
      "outputs": [],
      "source": [
        "# 查看GPU\n",
        "!nvidia-smi"
      ]
    },
    {
      "cell_type": "markdown",
      "metadata": {
        "id": "PPVhqOv5LIrb"
      },
      "source": [
        "查看pytorch版本"
      ]
    },
    {
      "cell_type": "code",
      "execution_count": null,
      "metadata": {
        "colab": {
          "base_uri": "https://localhost:8080/"
        },
        "id": "m4qTUWDkLNL7",
        "outputId": "49eb5ee0-638a-4a12-f3b2-c1a0266ff06b"
      },
      "outputs": [
        {
          "name": "stdout",
          "output_type": "stream",
          "text": [
            "1.4.0\n"
          ]
        }
      ],
      "source": [
        "import torch\n",
        "print(torch.__version__)"
      ]
    },
    {
      "cell_type": "markdown",
      "metadata": {
        "id": "Y2koLXZHL5qp"
      },
      "source": [
        "安装pytorch新版"
      ]
    },
    {
      "cell_type": "code",
      "execution_count": null,
      "metadata": {
        "id": "fk-3pY04Lzdb"
      },
      "outputs": [],
      "source": [
        "pip install torch==1.4.0 torchvision"
      ]
    },
    {
      "cell_type": "markdown",
      "metadata": {
        "id": "Qsrtkz8BdWzK"
      },
      "source": [
        "创造数据集"
      ]
    },
    {
      "cell_type": "code",
      "execution_count": null,
      "metadata": {
        "id": "oavA-kzHw7vr",
        "colab": {
          "base_uri": "https://localhost:8080/"
        },
        "outputId": "fd100e47-4fe3-4593-f077-85f829004faf"
      },
      "outputs": [
        {
          "output_type": "stream",
          "name": "stdout",
          "text": [
            "\n",
            "正在创建文件列表... 请耐心等待.\n",
            "\n",
            "训练集中共有 123285 张图像\n",
            "\n",
            "在测试集 BSD100 中共有 100 张图像\n",
            "\n",
            "在测试集 Set5 中共有 5 张图像\n",
            "\n",
            "在测试集 Set14 中共有 14 张图像\n",
            "\n",
            "生成完毕。训练集和测试集文件列表已保存在 ./data/ 下\n",
            "\n"
          ]
        }
      ],
      "source": [
        "! python create_data_lists.py"
      ]
    },
    {
      "cell_type": "markdown",
      "metadata": {
        "id": "4n_pdS7DxTjO"
      },
      "source": [
        "训练生成器"
      ]
    },
    {
      "cell_type": "code",
      "execution_count": null,
      "metadata": {
        "id": "RSCySqZjxXif"
      },
      "outputs": [],
      "source": [
        "! python train_srresnet.py"
      ]
    },
    {
      "cell_type": "markdown",
      "metadata": {
        "id": "1o4LbgySwSzF"
      },
      "source": [
        "训练鉴别器"
      ]
    },
    {
      "cell_type": "code",
      "execution_count": null,
      "metadata": {
        "id": "lHCGYnQRwXYd"
      },
      "outputs": [],
      "source": [
        "! python train_srgan.py"
      ]
    },
    {
      "cell_type": "markdown",
      "metadata": {
        "id": "SZeuzWbNCK86"
      },
      "source": [
        "查看设备id"
      ]
    },
    {
      "cell_type": "code",
      "execution_count": null,
      "metadata": {
        "colab": {
          "base_uri": "https://localhost:8080/"
        },
        "id": "cE9F0jL79Q9W",
        "outputId": "59df4a0d-cabe-46f4-9ecf-f5d87fd39fe7"
      },
      "outputs": [
        {
          "data": {
            "text/plain": [
              "[0]"
            ]
          },
          "execution_count": 4,
          "metadata": {},
          "output_type": "execute_result"
        }
      ],
      "source": [
        "import torch\n",
        "list(range(torch.cuda.device_count()))"
      ]
    },
    {
      "cell_type": "markdown",
      "metadata": {
        "id": "R3pQTNekCSz8"
      },
      "source": [
        "超分"
      ]
    },
    {
      "cell_type": "code",
      "execution_count": null,
      "metadata": {
        "colab": {
          "base_uri": "https://localhost:8080/"
        },
        "id": "Ya-G-82bCUqT",
        "outputId": "f21edea8-c639-4701-917b-dbc860c9d096"
      },
      "outputs": [
        {
          "output_type": "stream",
          "name": "stdout",
          "text": [
            "用时  0.122 秒\n"
          ]
        }
      ],
      "source": [
        "! python test.py"
      ]
    },
    {
      "cell_type": "markdown",
      "metadata": {
        "id": "F4bDa2On7AGE"
      },
      "source": [
        "测试"
      ]
    },
    {
      "cell_type": "code",
      "execution_count": null,
      "metadata": {
        "id": "q6YRXs5Y7Ccq"
      },
      "outputs": [],
      "source": [
        "! python eval.py"
      ]
    },
    {
      "cell_type": "markdown",
      "metadata": {
        "id": "yW3yjDed1l2B"
      },
      "source": [
        "进入空间"
      ]
    },
    {
      "cell_type": "code",
      "execution_count": null,
      "metadata": {
        "colab": {
          "base_uri": "https://localhost:8080/"
        },
        "id": "msIkOQkn1n3X",
        "outputId": "69287153-97bd-4b28-a6ba-e116874ddaca"
      },
      "outputs": [
        {
          "data": {
            "text/plain": [
              "['Colab Notebooks',\n",
              " 'figure',\n",
              " '__pycache__',\n",
              " '.ipynb_checkpoints',\n",
              " 'srimg.zip',\n",
              " '10epochgan.jpg',\n",
              " 'checkpoint_srresnet40.pth',\n",
              " 'checkpoint_srresnet38.pth',\n",
              " 'eval_gan.py']"
            ]
          },
          "execution_count": 6,
          "metadata": {},
          "output_type": "execute_result"
        }
      ],
      "source": [
        "import os\n",
        "path=\"/content/drive/MyDrive\"\n",
        "os.chdir(path)\n",
        "os.listdir(path)\n"
      ]
    },
    {
      "cell_type": "markdown",
      "metadata": {
        "id": "Y9Er2kG-0E2_"
      },
      "source": [
        "测试gan"
      ]
    },
    {
      "cell_type": "code",
      "execution_count": null,
      "metadata": {
        "colab": {
          "base_uri": "https://localhost:8080/"
        },
        "id": "vs1ebXLs0G7G",
        "outputId": "cfcdee76-8669-4572-a938-439a3b7b5582"
      },
      "outputs": [
        {
          "name": "stdout",
          "output_type": "stream",
          "text": [
            "  File \"eval_gan.py\", line 84\n",
            "    img = img.convert('RGB')\n",
            "    ^\n",
            "IndentationError: unexpected indent\n"
          ]
        }
      ],
      "source": [
        "! python eval_gan.py"
      ]
    },
    {
      "cell_type": "markdown",
      "metadata": {
        "id": "E9i3M_OV2Xhe"
      },
      "source": [
        "准备数据集srcnn"
      ]
    },
    {
      "cell_type": "code",
      "execution_count": null,
      "metadata": {
        "colab": {
          "base_uri": "https://localhost:8080/"
        },
        "id": "b_eQWcYh2fQq",
        "outputId": "c6932e7d-75f0-45f4-d863-461e43fa95dc"
      },
      "outputs": [
        {
          "name": "stdout",
          "output_type": "stream",
          "text": [
            "python3: can't open file 'prepare.py': [Errno 2] No such file or directory\n"
          ]
        }
      ],
      "source": [
        "! python prepare.py "
      ]
    },
    {
      "cell_type": "markdown",
      "metadata": {
        "id": "kVAQaaLQ2q9f"
      },
      "source": [
        "进入srcnn"
      ]
    },
    {
      "cell_type": "code",
      "execution_count": null,
      "metadata": {
        "id": "vIE598PU2s_o",
        "colab": {
          "base_uri": "https://localhost:8080/"
        },
        "outputId": "330d0726-bf51-494c-ecb5-84b0cf45535f"
      },
      "outputs": [
        {
          "output_type": "execute_result",
          "data": {
            "text/plain": [
              "['outputs',\n",
              " '__pycache__',\n",
              " 'prepare.py',\n",
              " 'README.md',\n",
              " 'test.py',\n",
              " 'FSRCNN-pytorch-master',\n",
              " 'train.py',\n",
              " 'model.py',\n",
              " 'data',\n",
              " 'utils.py',\n",
              " 'datasets.py']"
            ]
          },
          "metadata": {},
          "execution_count": 22
        }
      ],
      "source": [
        "import os\n",
        "path=\"/content/SRCNN_Pytorch_1.0-master\"\n",
        "os.chdir(path)\n",
        "os.listdir(path)\n"
      ]
    },
    {
      "cell_type": "markdown",
      "metadata": {
        "id": "thSoC6emzQ92"
      },
      "source": [
        "训练srcnn"
      ]
    },
    {
      "cell_type": "code",
      "execution_count": null,
      "metadata": {
        "id": "z-2IBWzTzUbE"
      },
      "outputs": [],
      "source": [
        "!python train.py --train-file \"/content/drive/MyDrive/91-image_x4.h5\" \\\n",
        "                --eval-file \"/content/drive/MyDrive/Set5_x4.h5\" \\\n",
        "                --outputs-dir \"/content/SRCNN_Pytorch_1.0-master/outputs\" \\\n",
        "                --scale 4 \\\n",
        "                --lr 1e-4 \\\n",
        "                --batch-size 16 \\\n",
        "                --num-epochs 50 \\\n",
        "                --num-workers 0 \\\n",
        "                --seed 123    "
      ]
    },
    {
      "cell_type": "markdown",
      "metadata": {
        "id": "hGS0CFWhNt4U"
      },
      "source": [
        "验证srcnn"
      ]
    },
    {
      "cell_type": "code",
      "execution_count": null,
      "metadata": {
        "colab": {
          "base_uri": "https://localhost:8080/"
        },
        "id": "3AugmkLHNrot",
        "outputId": "a2a49bf5-e9f0-4f91-9e3f-77ea2d447692"
      },
      "outputs": [
        {
          "output_type": "stream",
          "name": "stdout",
          "text": [
            "PSNR: 28.83\n"
          ]
        }
      ],
      "source": [
        "!python test.py --weights-file \"/content/SRCNN_Pytorch_1.0-master/outputs/x4/best.pth\" \\\n",
        "               --image-file \"/content/drive/MyDrive/5.jpg\" \\\n",
        "               --scale 4"
      ]
    },
    {
      "cell_type": "markdown",
      "metadata": {
        "id": "XnkWdgZ9KFj8"
      },
      "source": [
        "进入FSRCNN"
      ]
    },
    {
      "cell_type": "code",
      "execution_count": null,
      "metadata": {
        "id": "PbVuUSrRKHaN",
        "colab": {
          "base_uri": "https://localhost:8080/"
        },
        "outputId": "7ee448fc-fc2f-4238-8f5b-2a194e3ce7f3"
      },
      "outputs": [
        {
          "output_type": "execute_result",
          "data": {
            "text/plain": [
              "['__pycache__',\n",
              " 'prepare.py',\n",
              " 'models.py',\n",
              " '.gitignore',\n",
              " 'README.md',\n",
              " 'test.py',\n",
              " 'train.py',\n",
              " 'thumbnails',\n",
              " 'BLAH_BLAH',\n",
              " 'data',\n",
              " 'utils.py',\n",
              " 'datasets.py']"
            ]
          },
          "metadata": {},
          "execution_count": 25
        }
      ],
      "source": [
        "import os\n",
        "path=\"/content/SRCNN_Pytorch_1.0-master/FSRCNN-pytorch-master\"\n",
        "os.chdir(path)\n",
        "os.listdir(path)\n"
      ]
    },
    {
      "cell_type": "markdown",
      "metadata": {
        "id": "e9uWH0MoKeTn"
      },
      "source": [
        "训练FSRCNN"
      ]
    },
    {
      "cell_type": "code",
      "execution_count": null,
      "metadata": {
        "colab": {
          "base_uri": "https://localhost:8080/"
        },
        "id": "U3ZxzGwQKgtC",
        "outputId": "e5bce17b-b0c2-4e0f-f158-60bebf104c89"
      },
      "outputs": [
        {
          "output_type": "stream",
          "name": "stdout",
          "text": [
            "^C\n"
          ]
        }
      ],
      "source": [
        "!python train.py --train-file \"/content/drive/MyDrive/91-image_x4 fsr.h5\" \\\n",
        "                --eval-file \"/content/drive/MyDrive/Set5_x4fsr.h5\" \\\n",
        "                --outputs-dir \"BLAH_BLAH/outputs\" \\\n",
        "                --scale 4 \\\n",
        "                --lr 1e-3 \\\n",
        "                --batch-size 16 \\\n",
        "                --num-epochs 3 \\\n",
        "                --num-workers 8 \\\n",
        "                --seed 123          "
      ]
    },
    {
      "cell_type": "markdown",
      "source": [
        "验证fcnn"
      ],
      "metadata": {
        "id": "KS8o4Q1YKZ-Q"
      }
    },
    {
      "cell_type": "code",
      "source": [
        "!python test.py --weights-file \"/content/SRCNN_Pytorch_1.0-master/FSRCNN-pytorch-master/BLAH_BLAH/outputs/x4/epoch_1.pth\" \\\n",
        "               --image-file \"/content/drive/MyDrive/test2.jpg\" \\\n",
        "               --scale 4"
      ],
      "metadata": {
        "colab": {
          "base_uri": "https://localhost:8080/"
        },
        "id": "6ZjzJ_W2Kdsb",
        "outputId": "00bbbea5-2c41-4f7e-f082-029c81415e58"
      },
      "execution_count": null,
      "outputs": [
        {
          "output_type": "stream",
          "name": "stdout",
          "text": [
            "PSNR: 26.89\n"
          ]
        }
      ]
    }
  ],
  "metadata": {
    "accelerator": "GPU",
    "colab": {
      "collapsed_sections": [],
      "name": "srface",
      "provenance": [],
      "authorship_tag": "ABX9TyMtEmjiCJFp3f4vkrQ6oaUT",
      "include_colab_link": true
    },
    "kernelspec": {
      "display_name": "Python 3",
      "name": "python3"
    },
    "language_info": {
      "name": "python"
    }
  },
  "nbformat": 4,
  "nbformat_minor": 0
}